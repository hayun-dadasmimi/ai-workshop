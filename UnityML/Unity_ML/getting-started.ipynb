{
 "cells": [
  {
   "cell_type": "markdown",
   "metadata": {},
   "source": [
    "# Unity ML-Agents Toolkit\n",
    "## Environment Basics\n",
    "This notebook contains a walkthrough of the basic functions of the Python API for the Unity ML-Agents toolkit. For instructions on building a Unity environment, see [here](https://github.com/Unity-Technologies/ml-agents/blob/master/docs/Getting-Started-with-Balance-Ball.md)."
   ]
  },
  {
   "cell_type": "markdown",
   "metadata": {},
   "source": [
    "### 1. Set environment parameters\n",
    "\n",
    "Be sure to set `env_name` to the name of the Unity environment file you want to launch. Ensure that the environment build is in `../envs`."
   ]
  },
  {
   "cell_type": "code",
   "execution_count": 1,
   "metadata": {},
   "outputs": [],
   "source": [
    "env_name = \"envs/3DBall\"  # Name of the Unity environment binary to launch\n",
    "train_mode = True  # Whether to run the environment in training or inference mode"
   ]
  },
  {
   "cell_type": "markdown",
   "metadata": {},
   "source": [
    "### 2. Load dependencies\n",
    "\n",
    "The following loads the necessary dependencies and checks the Python version (at runtime). ML-Agents Toolkit (v0.3 onwards) requires Python 3."
   ]
  },
  {
   "cell_type": "code",
   "execution_count": 2,
   "metadata": {},
   "outputs": [
    {
     "name": "stdout",
     "output_type": "stream",
     "text": [
      "Python version:\n",
      "3.6.9 |Anaconda, Inc.| (default, Jul 30 2019, 14:00:49) [MSC v.1915 64 bit (AMD64)]\n"
     ]
    }
   ],
   "source": [
    "import matplotlib.pyplot as plt\n",
    "import numpy as np\n",
    "import sys\n",
    "\n",
    "from mlagents.envs import UnityEnvironment\n",
    "\n",
    "%matplotlib inline\n",
    "\n",
    "print(\"Python version:\")\n",
    "print(sys.version)\n",
    "\n",
    "# check Python version\n",
    "if (sys.version_info[0] < 3):\n",
    "    raise Exception(\"ERROR: ML-Agents Toolkit (v0.3 onwards) requires Python 3\")"
   ]
  },
  {
   "cell_type": "markdown",
   "metadata": {},
   "source": [
    "### 3. Start the environment\n",
    "`UnityEnvironment` launches and begins communication with the environment when instantiated.\n",
    "\n",
    "Environments contain _brains_ which are responsible for deciding the actions of their associated _agents_. Here we check for the first brain available, and set it as the default brain we will be controlling from Python."
   ]
  },
  {
   "cell_type": "code",
   "execution_count": 3,
   "metadata": {},
   "outputs": [
    {
     "name": "stderr",
     "output_type": "stream",
     "text": [
      "INFO:mlagents.envs:\n",
      "'Ball_Academy' started successfully!\n",
      "Unity Academy name: Ball_Academy\n",
      "        Number of Brains: 1\n",
      "        Number of Training Brains : 1\n",
      "        Reset Parameters :\n",
      "\t\t\n",
      "Unity brain name: BallBrain\n",
      "        Number of Visual Observations (per agent): 0\n",
      "        Vector Observation space size (per agent): 6\n",
      "        Number of stacked Vector Observation: 1\n",
      "        Vector Action space type: continuous\n",
      "        Vector Action space size (per agent): [2]\n",
      "        Vector Action descriptions: , \n"
     ]
    }
   ],
   "source": [
    "env = UnityEnvironment(file_name=env_name)\n",
    "\n",
    "# Set the default brain to work with\n",
    "default_brain = env.brain_names[0]\n",
    "brain = env.brains[default_brain]"
   ]
  },
  {
   "cell_type": "markdown",
   "metadata": {},
   "source": [
    "### 4. Examine the observation and state spaces\n",
    "We can reset the environment to be provided with an initial set of observations and states for all the agents within the environment. In ML-Agents, _states_ refer to a vector of variables corresponding to relevant aspects of the environment for an agent. Likewise, _observations_ refer to a set of relevant pixel-wise visuals for an agent."
   ]
  },
  {
   "cell_type": "code",
   "execution_count": 4,
   "metadata": {},
   "outputs": [
    {
     "name": "stdout",
     "output_type": "stream",
     "text": [
      "Agent state looks like: \n",
      "[-0.17893448 -0.36484927 -0.16827926 -0.16816482  0.          0.        ]\n"
     ]
    }
   ],
   "source": [
    "# Reset the environment\n",
    "env_info = env.reset(train_mode=train_mode)[default_brain]\n",
    "\n",
    "# Examine the state space for the default brain\n",
    "print(\"Agent state looks like: \\n{}\".format(env_info.vector_observations[0]))\n",
    "\n",
    "# Examine the observation space for the default brain\n",
    "for observation in env_info.visual_observations:\n",
    "    print(\"Agent observations look like:\")\n",
    "    if observation.shape[3] == 3:\n",
    "        plt.imshow(observation[0,:,:,:])\n",
    "    else:\n",
    "        plt.imshow(observation[0,:,:,0])"
   ]
  },
  {
   "cell_type": "markdown",
   "metadata": {},
   "source": [
    "### 5. Take random actions in the environment\n",
    "Once we restart an environment, we can step the environment forward and provide actions to all of the agents within the environment. Here we simply choose random actions based on the `action_space_type` of the default brain. \n",
    "\n",
    "Once this cell is executed, 10 messages will be printed that detail how much reward will be accumulated for the next 10 episodes. The Unity environment will then pause, waiting for further signals telling it what to do next. Thus, not seeing any animation is expected when running this cell."
   ]
  },
  {
   "cell_type": "code",
   "execution_count": 5,
   "metadata": {},
   "outputs": [
    {
     "name": "stdout",
     "output_type": "stream",
     "text": [
      "Total reward this episode: -1.2800000599818304\n",
      "Total reward this episode: -1.2450000583194196\n",
      "Total reward this episode: -1.3980000655865297\n",
      "Total reward this episode: -1.144000053522177\n",
      "Total reward this episode: -1.1320000529522076\n",
      "Total reward this episode: -1.1180000522872433\n",
      "Total reward this episode: -1.0650000497698784\n",
      "Total reward this episode: -1.1620000543771312\n",
      "Total reward this episode: -1.1780000551370904\n",
      "Total reward this episode: -1.1180000522872433\n",
      "Total reward this episode: -1.0580000494373962\n",
      "Total reward this episode: -1.2720000596018508\n",
      "Total reward this episode: -1.1100000519072637\n",
      "Total reward this episode: -1.4300000671064481\n",
      "Total reward this episode: -1.1300000528572127\n",
      "Total reward this episode: -1.1160000521922484\n",
      "Total reward this episode: -1.1870000555645674\n",
      "Total reward this episode: -1.235000057844445\n",
      "Total reward this episode: -0.22500004444736987\n",
      "Total reward this episode: -1.1270000527147204\n",
      "Total reward this episode: -1.2930000605992973\n",
      "Total reward this episode: -1.0370000484399498\n",
      "Total reward this episode: -1.1700000547571108\n",
      "Total reward this episode: -1.093000051099807\n",
      "Total reward this episode: -1.0650000497698784\n",
      "Total reward this episode: -0.3420000500045717\n",
      "Total reward this episode: -1.4260000669164583\n",
      "Total reward this episode: -1.2030000563245267\n",
      "Total reward this episode: -1.3320000624516979\n",
      "Total reward this episode: -1.1580000541871414\n",
      "Total reward this episode: -1.175000054994598\n",
      "Total reward this episode: -1.5610000733286142\n",
      "Total reward this episode: -0.28300004720222205\n",
      "Total reward this episode: -1.5490000727586448\n",
      "Total reward this episode: -1.1350000530947\n",
      "Total reward this episode: -1.1730000548996031\n",
      "Total reward this episode: -1.1830000553745776\n",
      "Total reward this episode: -1.0800000504823402\n",
      "Total reward this episode: -1.1110000519547611\n",
      "Total reward this episode: -1.1360000531421974\n",
      "Total reward this episode: -1.1140000520972535\n",
      "Total reward this episode: -1.062000049627386\n",
      "Total reward this episode: -0.06400003680028021\n",
      "Total reward this episode: -0.2160000440198928\n",
      "Total reward this episode: -1.1800000552320853\n",
      "Total reward this episode: -1.071000050054863\n",
      "Total reward this episode: -1.03300004824996\n",
      "Total reward this episode: -1.1850000554695725\n",
      "Total reward this episode: -1.1290000528097153\n",
      "Total reward this episode: -1.1930000558495522\n",
      "Total reward this episode: -1.2100000566570088\n",
      "Total reward this episode: -1.071000050054863\n",
      "Total reward this episode: -1.215000056894496\n",
      "Total reward this episode: -1.1180000522872433\n",
      "Total reward this episode: -1.040000048582442\n",
      "Total reward this episode: -1.155000054044649\n",
      "Total reward this episode: -1.0500000490574166\n",
      "Total reward this episode: -1.075000050244853\n",
      "Total reward this episode: -1.4400000675814226\n",
      "Total reward this episode: -1.042000048677437\n",
      "Total reward this episode: -1.3650000640191138\n",
      "Total reward this episode: -1.2940000606467947\n",
      "Total reward this episode: -1.1600000542821363\n",
      "Total reward this episode: -0.263000046252273\n",
      "Total reward this episode: -1.08400005067233\n",
      "Total reward this episode: -1.113000052049756\n",
      "Total reward this episode: -0.22200004430487752\n",
      "Total reward this episode: -1.3160000616917387\n",
      "Total reward this episode: -0.2490000455873087\n",
      "Total reward this episode: -1.1310000529047102\n",
      "Total reward this episode: -1.1050000516697764\n",
      "Total reward this episode: -1.2300000576069579\n",
      "Total reward this episode: -1.1870000555645674\n",
      "Total reward this episode: -1.2000000561820343\n",
      "Total reward this episode: -1.1430000534746796\n",
      "Total reward this episode: -1.6940000796457753\n",
      "Total reward this episode: -1.2950000606942922\n",
      "Total reward this episode: -1.301000060979277\n",
      "Total reward this episode: 0.628999961540103\n",
      "Total reward this episode: -1.0370000484399498\n",
      "Total reward this episode: -1.0580000494373962\n",
      "Total reward this episode: -0.23800004506483674\n",
      "Total reward this episode: -1.5260000716662034\n",
      "Total reward this episode: -1.188000055612065\n",
      "Total reward this episode: -1.762000082875602\n",
      "Total reward this episode: -1.1210000524297357\n",
      "Total reward this episode: -1.1790000551845878\n",
      "Total reward this episode: -1.1870000555645674\n",
      "Total reward this episode: -0.15200004098005593\n",
      "Total reward this episode: -1.093000051099807\n",
      "Total reward this episode: -1.1410000533796847\n",
      "Total reward this episode: -1.3350000625941902\n",
      "Total reward this episode: -1.2450000583194196\n",
      "Total reward this episode: -1.5770000740885735\n",
      "Total reward this episode: -1.3510000633541495\n",
      "Total reward this episode: -1.0980000513372943\n",
      "Total reward this episode: -1.4280000670114532\n",
      "Total reward this episode: -1.1140000520972535\n",
      "Total reward this episode: -1.0490000490099192\n",
      "Total reward this episode: -1.113000052049756\n"
     ]
    }
   ],
   "source": [
    "for episode in range(100):\n",
    "    env_info = env.reset(train_mode=train_mode)[default_brain]\n",
    "    done = False\n",
    "    episode_rewards = 0\n",
    "    while not done:\n",
    "        action_size = brain.vector_action_space_size\n",
    "        if brain.vector_action_space_type == 'continuous':\n",
    "            env_info = env.step(np.random.randn(len(env_info.agents), \n",
    "                                                action_size[0]))[default_brain]\n",
    "        else:\n",
    "            action = np.column_stack([np.random.randint(0, action_size[i], size=(len(env_info.agents))) for i in range(len(action_size))])\n",
    "            env_info = env.step(action)[default_brain]\n",
    "        episode_rewards += env_info.rewards[0]\n",
    "        done = env_info.local_done[0]\n",
    "    print(\"Total reward this episode: {}\".format(episode_rewards))"
   ]
  },
  {
   "cell_type": "markdown",
   "metadata": {},
   "source": [
    "### 6. Close the environment when finished\n",
    "When we are finished using an environment, we can close it with the function below."
   ]
  },
  {
   "cell_type": "code",
   "execution_count": 7,
   "metadata": {},
   "outputs": [],
   "source": [
    "env.close()"
   ]
  }
 ],
 "metadata": {
  "anaconda-cloud": {},
  "kernelspec": {
   "display_name": "Python 3",
   "language": "python",
   "name": "python3"
  },
  "language_info": {
   "codemirror_mode": {
    "name": "ipython",
    "version": 3
   },
   "file_extension": ".py",
   "mimetype": "text/x-python",
   "name": "python",
   "nbconvert_exporter": "python",
   "pygments_lexer": "ipython3",
   "version": "3.6.9"
  }
 },
 "nbformat": 4,
 "nbformat_minor": 1
}
